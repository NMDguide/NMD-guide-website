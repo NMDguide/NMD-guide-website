{
 "cells": [
  {
   "cell_type": "code",
   "execution_count": 1,
   "id": "193499b9",
   "metadata": {},
   "outputs": [],
   "source": [
    "import pandas as pd\n",
    "import numpy as np\n",
    "import tensorflow as tf\n",
    "from tensorflow import keras\n",
    "from tensorflow.keras import Sequential\n",
    "from tensorflow.keras.layers import Flatten, Dense\n",
    "from tensorflow.keras.wrappers.scikit_learn import KerasClassifier\n",
    "from sklearn.model_selection import train_test_split, cross_val_score, StratifiedKFold\n",
    "from sklearn.preprocessing import LabelEncoder, OrdinalEncoder\n",
    "from sklearn.feature_selection import SelectKBest, chi2, f_classif, RFE\n",
    "from sklearn.metrics import confusion_matrix, accuracy_score, classification_report\n",
    "from sklearn.svm import SVC\n",
    "from sklearn.linear_model import LogisticRegression\n",
    "from sklearn.ensemble import RandomForestClassifier\n",
    "from sklearn.neural_network import MLPClassifier\n",
    "import seaborn as sns\n",
    "import matplotlib.pyplot as plt"
   ]
  },
  {
   "cell_type": "code",
   "execution_count": 2,
   "id": "0987aa4d",
   "metadata": {},
   "outputs": [],
   "source": [
    "dataset = pd.read_csv(\"selectedFeatures.csv\")\n",
    "df=dataset"
   ]
  },
  {
   "cell_type": "code",
   "execution_count": 3,
   "id": "f28c99b0",
   "metadata": {},
   "outputs": [],
   "source": [
    "y= df.iloc[:, -1].values"
   ]
  },
  {
   "cell_type": "code",
   "execution_count": 4,
   "id": "147e4592",
   "metadata": {},
   "outputs": [],
   "source": [
    "X = np.loadtxt(\"Features.txt\")"
   ]
  },
  {
   "cell_type": "code",
   "execution_count": 5,
   "id": "bf395ec1",
   "metadata": {},
   "outputs": [],
   "source": [
    "# Create a StratifiedKFold object with 5 splits\n",
    "skf = StratifiedKFold(n_splits=5, shuffle=True, random_state=42)"
   ]
  },
  {
   "cell_type": "code",
   "execution_count": 6,
   "id": "015c0859",
   "metadata": {},
   "outputs": [],
   "source": [
    "accuracy_list_of_lr=[]\n",
    "lr_train_accuracy_list = []"
   ]
  },
  {
   "cell_type": "code",
   "execution_count": 8,
   "id": "ab465906",
   "metadata": {
    "collapsed": true
   },
   "outputs": [
    {
     "name": "stderr",
     "output_type": "stream",
     "text": [
      "C:\\Users\\marye\\anaconda3\\lib\\site-packages\\sklearn\\model_selection\\_split.py:700: UserWarning: The least populated class in y has only 2 members, which is less than n_splits=5.\n",
      "  warnings.warn(\n"
     ]
    }
   ],
   "source": [
    "from sklearn import metrics\n",
    "from sklearn.model_selection import train_test_split\n",
    "\n",
    "for train_index, test_index in skf.split(X, y):\n",
    "    X_train, X_test = X[train_index], X[test_index]\n",
    "    y_train, y_test = y[train_index], y[test_index]\n",
    "    \n",
    "    # Train and evaluate Logistic Regression\n",
    "    lr_model = LogisticRegression(max_iter=1000)\n",
    "    lr_model.fit(X_train, y_train)\n",
    "\n",
    "    lr_accuracy = lr_model.score(X_test, y_test)\n",
    "    accuracy_list_of_lr.append(lr_accuracy)\n",
    "    lr_train_accuracy = lr_model.score(X_train, y_train)\n",
    "    lr_train_accuracy_list.append(lr_train_accuracy)\n"
   ]
  },
  {
   "cell_type": "code",
   "execution_count": 9,
   "id": "69793b13",
   "metadata": {},
   "outputs": [
    {
     "name": "stdout",
     "output_type": "stream",
     "text": [
      "Average Logistic Regression Accuracy: 0.8676666666666666\n"
     ]
    }
   ],
   "source": [
    "average_accuracy_of_lr = sum(accuracy_list_of_lr) / len(accuracy_list_of_lr)\n",
    "print(\"Average Logistic Regression Accuracy:\", average_accuracy_of_lr)"
   ]
  },
  {
   "cell_type": "code",
   "execution_count": 12,
   "id": "a9ac9729",
   "metadata": {},
   "outputs": [
    {
     "name": "stdout",
     "output_type": "stream",
     "text": [
      "Logistic Regression Average Train Accuracy: 1.0\n"
     ]
    }
   ],
   "source": [
    "# Calculate the average training accuracy for each model\n",
    "lr_average_train_accuracy = sum(lr_train_accuracy_list) / len(lr_train_accuracy_list)\n",
    "\n",
    "\n",
    "# Print the average training accuracy for each model\n",
    "print(\"Logistic Regression Average Train Accuracy:\", lr_average_train_accuracy)\n"
   ]
  },
  {
   "cell_type": "code",
   "execution_count": null,
   "id": "7e23abc6",
   "metadata": {},
   "outputs": [],
   "source": []
  },
  {
   "cell_type": "code",
   "execution_count": null,
   "id": "febee854",
   "metadata": {},
   "outputs": [],
   "source": []
  },
  {
   "cell_type": "code",
   "execution_count": null,
   "id": "2f02b0a3",
   "metadata": {},
   "outputs": [],
   "source": []
  }
 ],
 "metadata": {
  "kernelspec": {
   "display_name": "Python 3 (ipykernel)",
   "language": "python",
   "name": "python3"
  },
  "language_info": {
   "codemirror_mode": {
    "name": "ipython",
    "version": 3
   },
   "file_extension": ".py",
   "mimetype": "text/x-python",
   "name": "python",
   "nbconvert_exporter": "python",
   "pygments_lexer": "ipython3",
   "version": "3.9.13"
  }
 },
 "nbformat": 4,
 "nbformat_minor": 5
}
