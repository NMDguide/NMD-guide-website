{
 "cells": [
  {
   "cell_type": "code",
   "execution_count": 1,
   "id": "9e7457a1",
   "metadata": {
    "id": "9e7457a1"
   },
   "outputs": [],
   "source": [
    "import pandas as pd\n",
    "import tensorflow as tf\n",
    "from tensorflow import keras\n",
    "from tensorflow.keras import Sequential\n",
    "from tensorflow.keras.layers import Flatten, Dense\n",
    "from sklearn.model_selection import train_test_split\n",
    "from sklearn.preprocessing import LabelEncoder\n",
    "from sklearn.preprocessing import OrdinalEncoder\n",
    "from sklearn.feature_selection import SelectKBest\n",
    "from sklearn.feature_selection import chi2\n",
    "from sklearn.metrics import confusion_matrix, accuracy_score, classification_report\n",
    "import seaborn as sns\n",
    "import matplotlib.pyplot as plt\n",
    "from sklearn.svm import SVC\n",
    "from sklearn.model_selection import cross_val_score\n",
    "from sklearn.feature_selection import SelectKBest, f_classif\n"
   ]
  },
  {
   "cell_type": "code",
   "execution_count": 2,
   "id": "9ff5f58b",
   "metadata": {
    "id": "9ff5f58b"
   },
   "outputs": [],
   "source": [
    "dataset = pd.read_csv(\"selectedFeatures.csv\")\n",
    "df=dataset"
   ]
  },
  {
   "cell_type": "code",
   "execution_count": 3,
   "id": "cd81eeba",
   "metadata": {
    "id": "cd81eeba"
   },
   "outputs": [],
   "source": [
    "X = df.iloc[:, :-1].values\n",
    "y = df.iloc[:, -1].values"
   ]
  },
  {
   "cell_type": "code",
   "execution_count": 4,
   "id": "d2653d91",
   "metadata": {},
   "outputs": [],
   "source": [
    "#y[y != \"Control\"] = \"Disease\""
   ]
  },
  {
   "cell_type": "code",
   "execution_count": 5,
   "id": "2c8ed436",
   "metadata": {},
   "outputs": [
    {
     "data": {
      "text/plain": [
       "array(['BMD', 'ALS', 'ALS', 'ALS', 'ALS', 'ALS', 'ALS', 'ALS', 'ALS',\n",
       "       'ALS', 'LGMD', 'LGMD', 'LGMD', 'LGMD', 'LGMD', 'Control',\n",
       "       'Control', 'Control', 'Control', 'Control', 'Control', 'Control',\n",
       "       'Control', 'BMD', 'BMD', 'BMD', 'BMD', 'LGMD', 'LGMD', 'LGMD',\n",
       "       'LGMD', 'LGMD', 'LGMD', 'LGMD', 'LGMD', 'LGMD', 'DMD', 'DMD',\n",
       "       'DMD', 'DMD', 'DMD', 'Control', 'Control', 'Control', 'Control',\n",
       "       'Control', 'EDMD', 'EDMD', 'EDMD', 'EDMD', 'EDMD', 'EDMD', 'EDMD',\n",
       "       'EDMD', 'LGMD', 'LGMD', 'LGMD', 'LGMD', 'LGMD', 'LGMD', 'LGMD',\n",
       "       'Control', 'Control', 'Control', 'LGMD', 'Control', 'Control',\n",
       "       'Control', 'Control', 'Control', 'AQM', 'AQM', 'AQM', 'AQM', 'AQM',\n",
       "       'HSP', 'HSP', 'HSP', 'HSP', 'NHM', 'NHM', 'DMD', 'FSHD', 'FSHD',\n",
       "       'FSHD', 'DMD', 'FSHD', 'DMD', 'FSHD', 'FSHD', 'FSHD', 'FSHD',\n",
       "       'DMD', 'DMD', 'FSHD', 'FSHD', 'FSHD', 'FSHD', 'FSHD', 'JDM', 'JDM',\n",
       "       'JDM', 'JDM', 'JDM', 'JDM', 'JDM', 'JDM', 'JDM', 'JDM', 'JDM',\n",
       "       'JDM', 'JDM', 'JDM', 'JDM', 'JDM', 'JDM', 'JDM', 'JDM', 'JDM',\n",
       "       'JDM', 'FSHD'], dtype=object)"
      ]
     },
     "execution_count": 5,
     "metadata": {},
     "output_type": "execute_result"
    }
   ],
   "source": [
    "y"
   ]
  },
  {
   "cell_type": "code",
   "execution_count": 6,
   "id": "685398b4",
   "metadata": {},
   "outputs": [
    {
     "data": {
      "image/png": "[encoded data removed]",
      "text/plain": [
       "<Figure size 640x480 with 1 Axes>"
      ]
     },
     "metadata": {},
     "output_type": "display_data"
    }
   ],
   "source": [
    "import numpy as np\n",
    "import matplotlib.pyplot as plt\n",
    "unique, counts = np.unique(y, return_counts=True)\n",
    "plt.bar(unique, counts)\n",
    "plt.show()"
   ]
  },
  {
   "cell_type": "code",
   "execution_count": 7,
   "id": "917b2ff7",
   "metadata": {},
   "outputs": [],
   "source": [
    "#values_to_remove = ['NHM', 'AQM' , 'BMD','HSP']\n",
    "#mask = ~df.iloc[:, -1].isin(values_to_remove)"
   ]
  },
  {
   "cell_type": "code",
   "execution_count": 8,
   "id": "11ad5f3c",
   "metadata": {},
   "outputs": [],
   "source": [
    "#df = df[mask]"
   ]
  },
  {
   "cell_type": "code",
   "execution_count": 9,
   "id": "75487068",
   "metadata": {},
   "outputs": [],
   "source": [
    "#X = df.iloc[:, :-1].values\n",
    "#y = df.iloc[:, -1].values"
   ]
  },
  {
   "cell_type": "code",
   "execution_count": 10,
   "id": "9509ac86",
   "metadata": {},
   "outputs": [],
   "source": [
    "#''''''import numpy as np\n",
    "#import matplotlib.pyplot as plt\n",
    "#unique, counts = np.unique(y, return_counts=True)\n",
    "#plt.bar(unique, counts)\n",
    "#plt.show()"
   ]
  },
  {
   "cell_type": "markdown",
   "id": "NpASgYgS6Xp-",
   "metadata": {
    "id": "NpASgYgS6Xp-"
   },
   "source": [
    "**Ensample method**"
   ]
  },
  {
   "cell_type": "code",
   "execution_count": 7,
   "id": "8afgAcNN6kJT",
   "metadata": {
    "id": "8afgAcNN6kJT"
   },
   "outputs": [],
   "source": [
    "import pandas as pd\n",
    "import numpy as np\n",
    "from sklearn.feature_selection import RFE\n",
    "from sklearn.model_selection import StratifiedKFold\n",
    "from sklearn.linear_model import LogisticRegression\n",
    "from sklearn.ensemble import RandomForestClassifier\n",
    "from sklearn.svm import SVC\n",
    "from sklearn.neural_network import MLPClassifier\n",
    "from tensorflow.keras.models import Sequential\n",
    "from tensorflow.keras.layers import Dense\n",
    "from tensorflow.keras.wrappers.scikit_learn import KerasClassifier"
   ]
  },
  {
   "cell_type": "code",
   "execution_count": 8,
   "id": "ue7quPuA6sB2",
   "metadata": {
    "id": "ue7quPuA6sB2"
   },
   "outputs": [],
   "source": [
    "# Perform feature selection using RFE with Logistic Regression\n",
    "estimator = LogisticRegression(max_iter=1000)\n",
    "selector = RFE(estimator, n_features_to_select=88, step=10)\n",
    "selector = selector.fit(X, y)\n",
    "X = selector.transform(X)\n"
   ]
  },
  {
   "cell_type": "code",
   "execution_count": 9,
   "id": "7e18180f",
   "metadata": {},
   "outputs": [],
   "source": [
    "np.savetxt(\"Features.txt\", X)\n",
    "X = np.loadtxt(\"Features.txt\")"
   ]
  },
  {
   "cell_type": "code",
   "execution_count": 10,
   "id": "kgD1Ij7K62xm",
   "metadata": {
    "id": "kgD1Ij7K62xm"
   },
   "outputs": [],
   "source": [
    "# Create a StratifiedKFold object with 5 splits\n",
    "skf = StratifiedKFold(n_splits=5, shuffle=True, random_state=42)"
   ]
  },
  {
   "cell_type": "code",
   "execution_count": 11,
   "id": "bdfb4537",
   "metadata": {},
   "outputs": [],
   "source": [
    "accuracy_list_of_lr=[]\n",
    "accuracy_list_of_rf=[]\n",
    "accuracy_list_of_svm=[]\n",
    "accuracy_list_of_mlp=[]\n",
    "lr_train_accuracy_list = []\n",
    "rf_train_accuracy_list = []\n",
    "svm_train_accuracy_list = []\n",
    "mlp_train_accuracy_list = []"
   ]
  },
  {
   "cell_type": "code",
   "execution_count": 12,
   "id": "28e5f7db",
   "metadata": {},
   "outputs": [
    {
     "name": "stderr",
     "output_type": "stream",
     "text": [
      "C:\\Users\\marye\\anaconda3\\lib\\site-packages\\sklearn\\model_selection\\_split.py:700: UserWarning: The least populated class in y has only 2 members, which is less than n_splits=5.\n",
      "  warnings.warn(\n"
     ]
    }
   ],
   "source": [
    "# Train and evaluate several machine learning models on each fold\n",
    "for train_index, test_index in skf.split(X, y):\n",
    "    X_train, X_test = X[train_index], X[test_index]\n",
    "    y_train, y_test = y[train_index], y[test_index]\n",
    "    \n",
    "    # Train and evaluate Logistic Regression\n",
    "    lr_model = LogisticRegression(max_iter=1000)\n",
    "    lr_model.fit(X_train, y_train)\n",
    "    lr_accuracy = lr_model.score(X_test, y_test)\n",
    "    accuracy_list_of_lr.append(lr_accuracy)\n",
    "    lr_train_accuracy = lr_model.score(X_train, y_train)\n",
    "    lr_train_accuracy_list.append(lr_train_accuracy)\n",
    "    #print(\"Logistic Regression Accuracy:\", lr_accuracy)\n",
    "    \n",
    "    # Train and evaluate Random Forest\n",
    "    rf_model = RandomForestClassifier(n_estimators=100)\n",
    "    rf_model.fit(X_train, y_train)\n",
    "    rf_accuracy = rf_model.score(X_test, y_test)\n",
    "    accuracy_list_of_rf.append(rf_accuracy)\n",
    "    rf_train_accuracy = rf_model.score(X_train, y_train)\n",
    "    rf_train_accuracy_list.append(rf_train_accuracy)\n",
    "    \n",
    "    #print(\"Random Forest Accuracy:\", rf_accuracy)\n",
    "    \n",
    "    # Train and evaluate Support Vector Machine\n",
    "    svm_model = SVC(kernel='linear')\n",
    "    svm_model.fit(X_train, y_train)\n",
    "    svm_accuracy = svm_model.score(X_test, y_test)\n",
    "    accuracy_list_of_svm.append(svm_accuracy)\n",
    "    svm_train_accuracy = svm_model.score(X_train, y_train)\n",
    "    svm_train_accuracy_list.append(svm_train_accuracy)\n",
    "    #print(\"Support Vector Machine Accuracy:\", svm_accuracy)\n",
    "    \n",
    "    # Train and evaluate Multi-Layer Perceptron\n",
    "    mlp_model = MLPClassifier(hidden_layer_sizes=(100, 50))\n",
    "    mlp_model.fit(X_train, y_train)\n",
    "    mlp_accuracy = mlp_model.score(X_test, y_test)\n",
    "    accuracy_list_of_mlp.append(mlp_accuracy)\n",
    "    mlp_train_accuracy = mlp_model.score(X_train, y_train)\n",
    "    mlp_train_accuracy_list.append(mlp_train_accuracy)\n",
    "    #print(\"Multi-Layer Perceptron Accuracy:\", mlp_accuracy)\n",
    "    "
   ]
  },
  {
   "cell_type": "code",
   "execution_count": 13,
   "id": "47510a9b",
   "metadata": {},
   "outputs": [
    {
     "name": "stdout",
     "output_type": "stream",
     "text": [
      "Average Logistic Regression Accuracy: 0.8676666666666666\n",
      "Average Ramdom Forest: 0.752\n",
      "Average Support Vector Machine: 0.826\n",
      "Average Multilayer Preception: 0.5636666666666666\n"
     ]
    }
   ],
   "source": [
    "\n",
    "# Calculate the average accuracy\n",
    "average_accuracy_of_lr = sum(accuracy_list_of_lr) / len(accuracy_list_of_lr)\n",
    "print(\"Average Logistic Regression Accuracy:\", average_accuracy_of_lr)\n",
    "\n",
    "# Calculate the average accuracy\n",
    "average_accuracy_of_rf = sum(accuracy_list_of_rf) / len(accuracy_list_of_rf)\n",
    "print(\"Average Ramdom Forest:\", average_accuracy_of_rf)\n",
    "\n",
    "# Calculate the average accuracy\n",
    "average_accuracy_of_svm = sum(accuracy_list_of_svm) / len(accuracy_list_of_svm)\n",
    "print(\"Average Support Vector Machine:\", average_accuracy_of_svm)\n",
    "\n",
    "# Calculate the average accuracy\n",
    "average_accuracy_of_mlp = sum(accuracy_list_of_mlp) / len(accuracy_list_of_mlp)\n",
    "print(\"Average Multilayer Preception:\", average_accuracy_of_mlp)"
   ]
  },
  {
   "cell_type": "code",
   "execution_count": 14,
   "id": "e18094c4",
   "metadata": {},
   "outputs": [
    {
     "name": "stdout",
     "output_type": "stream",
     "text": [
      "Logistic Regression Average Train Accuracy: 1.0\n",
      "Random Forest Average Train Accuracy: 1.0\n",
      "Support Vector Machine Average Train Accuracy: 1.0\n",
      "Multi-Layer Perceptron Average Train Accuracy: 0.9958762886597938\n"
     ]
    }
   ],
   "source": [
    "# Calculate the average training accuracy for each model\n",
    "lr_average_train_accuracy = sum(lr_train_accuracy_list) / len(lr_train_accuracy_list)\n",
    "rf_average_train_accuracy = sum(rf_train_accuracy_list) / len(rf_train_accuracy_list)\n",
    "svm_average_train_accuracy = sum(svm_train_accuracy_list) / len(svm_train_accuracy_list)\n",
    "mlp_average_train_accuracy = sum(mlp_train_accuracy_list) / len(mlp_train_accuracy_list)\n",
    "\n",
    "# Print the average training accuracy for each model\n",
    "print(\"Logistic Regression Average Train Accuracy:\", lr_average_train_accuracy)\n",
    "print(\"Random Forest Average Train Accuracy:\", rf_average_train_accuracy)\n",
    "print(\"Support Vector Machine Average Train Accuracy:\", svm_average_train_accuracy)\n",
    "print(\"Multi-Layer Perceptron Average Train Accuracy:\", mlp_average_train_accuracy)"
   ]
  },
  {
   "cell_type": "code",
   "execution_count": null,
   "id": "5f4be47c",
   "metadata": {},
   "outputs": [],
   "source": []
  },
  {
   "cell_type": "code",
   "execution_count": null,
   "id": "b3923715",
   "metadata": {},
   "outputs": [],
   "source": []
  }
 ],
 "metadata": {
  "colab": {
   "provenance": []
  },
  "kernelspec": {
   "display_name": "Python 3 (ipykernel)",
   "language": "python",
   "name": "python3"
  },
  "language_info": {
   "codemirror_mode": {
    "name": "ipython",
    "version": 3
   },
   "file_extension": ".py",
   "mimetype": "text/x-python",
   "name": "python",
   "nbconvert_exporter": "python",
   "pygments_lexer": "ipython3",
   "version": "3.9.13"
  }
 },
 "nbformat": 4,
 "nbformat_minor": 5
}
